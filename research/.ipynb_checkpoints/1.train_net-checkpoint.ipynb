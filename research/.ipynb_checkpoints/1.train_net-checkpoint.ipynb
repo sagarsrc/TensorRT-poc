{
 "cells": [
  {
   "cell_type": "markdown",
   "metadata": {},
   "source": [
    "# Write READABLE code"
   ]
  },
  {
   "cell_type": "markdown",
   "metadata": {},
   "source": [
    "# Import Libraries"
   ]
  },
  {
   "cell_type": "code",
   "execution_count": 1,
   "metadata": {},
   "outputs": [],
   "source": [
    "import os\n",
    "\n",
    "import numpy as np\n",
    "import matplotlib.pyplot as plt\n",
    "\n",
    "from sklearn.model_selection import KFold\n",
    "\n",
    "import tensorflow as tf\n",
    "from tensorflow.keras import Model\n",
    "from tensorflow.keras.datasets import fashion_mnist\n",
    "from tensorflow.keras.utils import to_categorical\n",
    "from tensorflow.keras.models import Sequential\n",
    "from tensorflow.keras.models import load_model\n",
    "from tensorflow.keras.layers import Input, Reshape, Dense, Flatten\n",
    "from tensorflow.keras.layers import Conv2D, MaxPooling2D\n",
    "from tensorflow.keras.layers import SpatialDropout2D, Dropout\n",
    "from tensorflow.keras.layers import BatchNormalization\n",
    "from tensorflow.keras.backend import flatten\n",
    "from tensorflow.keras.optimizers import Adam\n",
    "from tensorflow.keras.losses import categorical_crossentropy\n",
    "from tensorflow.keras.callbacks import ReduceLROnPlateau, TensorBoard, ModelCheckpoint, EarlyStopping\n"
   ]
  },
  {
   "cell_type": "markdown",
   "metadata": {},
   "source": [
    "# Loading Dataset"
   ]
  },
  {
   "cell_type": "code",
   "execution_count": 2,
   "metadata": {},
   "outputs": [],
   "source": [
    "# load dataset\n",
    "(trainX, trainY), (testX, testY) = fashion_mnist.load_data()"
   ]
  },
  {
   "cell_type": "markdown",
   "metadata": {},
   "source": [
    "# EDA"
   ]
  },
  {
   "cell_type": "code",
   "execution_count": 3,
   "metadata": {},
   "outputs": [
    {
     "name": "stdout",
     "output_type": "stream",
     "text": [
      "class : 0, number_of_images : 60000 \n",
      "\n",
      "There is no Class imbalance\n"
     ]
    }
   ],
   "source": [
    "labels = np.array([np.argmax(i) for i in trainY])\n",
    "classes, counts = np.unique(labels,return_counts=True)\n",
    "\n",
    "for i,j in zip(classes,counts):\n",
    "    print(f\"class : {i}, number_of_images : {j} \")\n",
    "print()\n",
    "print(\"There is no Class imbalance\")"
   ]
  },
  {
   "cell_type": "code",
   "execution_count": 4,
   "metadata": {},
   "outputs": [
    {
     "name": "stdout",
     "output_type": "stream",
     "text": [
      "Train: X=(60000, 28, 28), y=(60000,)\n",
      "Test: X=(10000, 28, 28), y=(10000,)\n"
     ]
    }
   ],
   "source": [
    "# summarize loaded dataset\n",
    "print('Train: X=%s, y=%s' % (trainX.shape, trainY.shape))\n",
    "print('Test: X=%s, y=%s' % (testX.shape, testY.shape))"
   ]
  },
  {
   "cell_type": "code",
   "execution_count": 5,
   "metadata": {},
   "outputs": [
    {
     "data": {
      "image/png": "[encoded data removed]",
      "text/plain": [
       "<Figure size 432x288 with 9 Axes>"
      ]
     },
     "metadata": {
      "needs_background": "light"
     },
     "output_type": "display_data"
    }
   ],
   "source": [
    "# plot first few images\n",
    "for i in range(9):\n",
    "    plt.subplot(330 + 1 + i)\n",
    "    plt.imshow(trainX[i], cmap=plt.get_cmap('gray'))\n",
    "\n",
    "plt.show()"
   ]
  },
  {
   "cell_type": "markdown",
   "metadata": {},
   "source": [
    "# Preparing Data"
   ]
  },
  {
   "cell_type": "markdown",
   "metadata": {},
   "source": [
    "## Convert data to vectors"
   ]
  },
  {
   "cell_type": "code",
   "execution_count": 6,
   "metadata": {},
   "outputs": [],
   "source": [
    "# Train data\n",
    "trainX = np.array(trainX, dtype=np.float32)\n",
    "trainX = trainX.reshape(trainX.shape[0], trainX.shape[1], trainX.shape[2], -1)\n",
    "\n",
    "trainY = np.array(trainY, dtype=np.float32)\n",
    "trainY = trainY.reshape(trainY.shape[0], -1)\n",
    "trainY = to_categorical(trainY)\n",
    "\n",
    "# Test data\n",
    "testX = np.array(testX, dtype=np.float32)\n",
    "testX = testX.reshape(testX.shape[0], testX.shape[1], testX.shape[2], -1)\n",
    "\n",
    "testY = np.array(testY, dtype=np.float32)\n",
    "testY = testY.reshape(testY.shape[0], -1)\n",
    "testY = to_categorical(testY)"
   ]
  },
  {
   "cell_type": "markdown",
   "metadata": {},
   "source": [
    "## Normalize data"
   ]
  },
  {
   "cell_type": "code",
   "execution_count": 7,
   "metadata": {},
   "outputs": [],
   "source": [
    "trainX /= 255.\n",
    "testX /= 255."
   ]
  },
  {
   "cell_type": "markdown",
   "metadata": {},
   "source": [
    "# Custom Neural Network"
   ]
  },
  {
   "cell_type": "code",
   "execution_count": 8,
   "metadata": {},
   "outputs": [
    {
     "name": "stdout",
     "output_type": "stream",
     "text": [
      "Model: \"model\"\n",
      "_________________________________________________________________\n",
      "Layer (type)                 Output Shape              Param #   \n",
      "=================================================================\n",
      "input_1 (InputLayer)         [(None, 28, 28, 1)]       0         \n",
      "_________________________________________________________________\n",
      "conv1 (Conv2D)               (None, 28, 28, 32)        320       \n",
      "_________________________________________________________________\n",
      "pool1 (MaxPooling2D)         (None, 14, 14, 32)        0         \n",
      "_________________________________________________________________\n",
      "dropout1 (Dropout)           (None, 14, 14, 32)        0         \n",
      "_________________________________________________________________\n",
      "conv2 (Conv2D)               (None, 14, 14, 64)        18496     \n",
      "_________________________________________________________________\n",
      "pool2 (MaxPooling2D)         (None, 7, 7, 64)          0         \n",
      "_________________________________________________________________\n",
      "dropout2 (Dropout)           (None, 7, 7, 64)          0         \n",
      "_________________________________________________________________\n",
      "conv3 (Conv2D)               (None, 7, 7, 128)         73856     \n",
      "_________________________________________________________________\n",
      "pool3 (MaxPooling2D)         (None, 3, 3, 128)         0         \n",
      "_________________________________________________________________\n",
      "dropout3 (Dropout)           (None, 3, 3, 128)         0         \n",
      "_________________________________________________________________\n",
      "flatten1 (Flatten)           (None, 1152)              0         \n",
      "_________________________________________________________________\n",
      "dropout4 (Dropout)           (None, 1152)              0         \n",
      "_________________________________________________________________\n",
      "dense1 (Dense)               (None, 128)               147584    \n",
      "_________________________________________________________________\n",
      "dropout5 (Dropout)           (None, 128)               0         \n",
      "_________________________________________________________________\n",
      "dense2 (Dense)               (None, 10)                1290      \n",
      "=================================================================\n",
      "Total params: 241,546\n",
      "Trainable params: 241,546\n",
      "Non-trainable params: 0\n",
      "_________________________________________________________________\n"
     ]
    }
   ],
   "source": [
    "def custom_net(input_shape,\n",
    "               num_classes=10,\n",
    "               learning_rate=0.001,\n",
    "               metrics=['accuracy']):\n",
    "    \"\"\"\n",
    "    \n",
    "    \n",
    "    Reference:\n",
    "        [1] https://machinelearningmastery.com/how-to-develop-a-cnn-from-scratch-for-fashion-mnist-clothing-classification/\n",
    "        [2] https://www.kaggle.com/bugraokcu/cnn-with-keras\n",
    "    \"\"\"\n",
    "    inputs = Input(shape=input_shape)\n",
    "\n",
    "    # conv block 1\n",
    "    conv1 = Conv2D(filters=32,\n",
    "                   kernel_size=(3, 3),\n",
    "                   activation='relu',\n",
    "                   padding='same',\n",
    "                   name='conv1')(inputs)\n",
    "    pool1 = MaxPooling2D(pool_size=(2, 2), name='pool1')(conv1)\n",
    "\n",
    "    dropout1 = Dropout(0.25, name='dropout1')(pool1)\n",
    "\n",
    "    # conv block 2\n",
    "    conv2 = Conv2D(filters=64,\n",
    "                   kernel_size=(3, 3),\n",
    "                   activation='relu',\n",
    "                   padding='same',\n",
    "                   name='conv2')(dropout1)\n",
    "    pool2 = MaxPooling2D(pool_size=(2, 2), name='pool2')(conv2)\n",
    "\n",
    "    dropout2 = Dropout(0.3, name='dropout2')(pool2)\n",
    "\n",
    "    # conv block 3\n",
    "    conv3 = Conv2D(filters=128,\n",
    "                   kernel_size=(3, 3),\n",
    "                   activation='relu',\n",
    "                   padding='same',\n",
    "                   name='conv3')(dropout2)\n",
    "    pool3 = MaxPooling2D(pool_size=(2, 2), name='pool3')(conv3)\n",
    "    dropout3 = Dropout(0.3, name='dropout3')(pool3)\n",
    "\n",
    "    # dense block 1\n",
    "    x1 = Flatten(name='flatten1')(dropout3)\n",
    "    dropout4 = Dropout(0.2, name='dropout4')(x1)\n",
    "    dense1 = Dense(units=128, activation='relu', name='dense1')(dropout4)\n",
    "    dropout5 = Dropout(0.2, name='dropout5')(dense1)\n",
    "    dense2 = Dense(units=num_classes, activation='softmax' , name='dense2')(dropout5)\n",
    "\n",
    "    model = Model(inputs=[inputs], outputs=[dense2])\n",
    "\n",
    "    model.compile(optimizer=Adam(learning_rate=learning_rate),\n",
    "                  loss=categorical_crossentropy,\n",
    "                  metrics=metrics)\n",
    "    return model\n",
    "\n",
    "\n",
    "# Network parameters\n",
    "num_classes = 10\n",
    "img_rows, img_cols = 28, 28\n",
    "input_shape = (img_rows, img_cols, 1)\n",
    "\n",
    "metrics = ['accuracy', tf.keras.metrics.Precision(), tf.keras.metrics.Recall()]\n",
    "\n",
    "lr = 0.0001\n",
    "model = custom_net(input_shape=input_shape,\n",
    "                   num_classes=num_classes,\n",
    "                   learning_rate=lr,\n",
    "                   metrics=metrics)\n",
    "model.summary()"
   ]
  },
  {
   "cell_type": "markdown",
   "metadata": {},
   "source": [
    "# Load earlier model"
   ]
  },
  {
   "cell_type": "code",
   "execution_count": 9,
   "metadata": {},
   "outputs": [],
   "source": [
    "model.load_weights(\"./checkpoints/fit4/model-05-0.93-0.93.h5\", by_name=True)"
   ]
  },
  {
   "cell_type": "markdown",
   "metadata": {},
   "source": [
    "# Fit model"
   ]
  },
  {
   "cell_type": "code",
   "execution_count": 10,
   "metadata": {},
   "outputs": [
    {
     "name": "stdout",
     "output_type": "stream",
     "text": [
      "Train on 42000 samples, validate on 18000 samples\n",
      "Epoch 1/30\n",
      "42000/42000 [==============================] - 31s 731us/sample - loss: 0.1979 - accuracy: 0.9256 - precision: 0.9362 - recall: 0.9155 - val_loss: 0.1965 - val_accuracy: 0.9299 - val_precision: 0.9406 - val_recall: 0.9209\n",
      "Epoch 2/30\n",
      "42000/42000 [==============================] - 26s 623us/sample - loss: 0.1924 - accuracy: 0.9273 - precision: 0.9379 - recall: 0.9184 - val_loss: 0.2070 - val_accuracy: 0.9239 - val_precision: 0.9346 - val_recall: 0.9149\n",
      "Epoch 3/30\n",
      "42000/42000 [==============================] - 26s 631us/sample - loss: 0.1923 - accuracy: 0.9267 - precision: 0.9369 - recall: 0.9168 - val_loss: 0.1966 - val_accuracy: 0.9303 - val_precision: 0.9382 - val_recall: 0.9236\n",
      "Epoch 4/30\n",
      "42000/42000 [==============================] - 26s 618us/sample - loss: 0.1931 - accuracy: 0.9275 - precision: 0.9374 - recall: 0.9187 - val_loss: 0.1990 - val_accuracy: 0.9287 - val_precision: 0.9389 - val_recall: 0.9206\n",
      "Epoch 5/30\n",
      "42000/42000 [==============================] - 26s 620us/sample - loss: 0.1919 - accuracy: 0.9262 - precision: 0.9365 - recall: 0.9173 - val_loss: 0.1993 - val_accuracy: 0.9279 - val_precision: 0.9370 - val_recall: 0.9193\n",
      "Epoch 6/30\n",
      "42000/42000 [==============================] - 26s 620us/sample - loss: 0.1875 - accuracy: 0.9293 - precision: 0.9390 - recall: 0.9202 - val_loss: 0.1933 - val_accuracy: 0.9321 - val_precision: 0.9421 - val_recall: 0.9209\n",
      "Epoch 7/30\n",
      "42000/42000 [==============================] - 26s 619us/sample - loss: 0.1868 - accuracy: 0.9285 - precision: 0.9387 - recall: 0.9195 - val_loss: 0.1939 - val_accuracy: 0.9309 - val_precision: 0.9403 - val_recall: 0.9228\n",
      "Epoch 8/30\n",
      "42000/42000 [==============================] - 26s 619us/sample - loss: 0.1867 - accuracy: 0.9299 - precision: 0.9396 - recall: 0.9200 - val_loss: 0.1926 - val_accuracy: 0.9319 - val_precision: 0.9403 - val_recall: 0.9257\n",
      "Epoch 9/30\n",
      "42000/42000 [==============================] - 26s 622us/sample - loss: 0.1851 - accuracy: 0.9309 - precision: 0.9410 - recall: 0.9217 - val_loss: 0.1936 - val_accuracy: 0.9313 - val_precision: 0.9385 - val_recall: 0.9229\n",
      "Epoch 10/30\n",
      "42000/42000 [==============================] - 26s 616us/sample - loss: 0.1840 - accuracy: 0.9297 - precision: 0.9399 - recall: 0.9213 - val_loss: 0.1948 - val_accuracy: 0.9295 - val_precision: 0.9374 - val_recall: 0.9226\n",
      "Epoch 11/30\n",
      "42000/42000 [==============================] - 26s 617us/sample - loss: 0.1789 - accuracy: 0.9303 - precision: 0.9388 - recall: 0.9217 - val_loss: 0.1968 - val_accuracy: 0.9287 - val_precision: 0.9373 - val_recall: 0.9213\n",
      "Epoch 12/30\n",
      "42000/42000 [==============================] - 26s 617us/sample - loss: 0.1802 - accuracy: 0.9299 - precision: 0.9393 - recall: 0.9211 - val_loss: 0.1926 - val_accuracy: 0.9320 - val_precision: 0.9396 - val_recall: 0.9249\n",
      "Epoch 13/30\n",
      "42000/42000 [==============================] - 26s 618us/sample - loss: 0.1781 - accuracy: 0.9337 - precision: 0.9424 - recall: 0.9248 - val_loss: 0.1926 - val_accuracy: 0.9321 - val_precision: 0.9404 - val_recall: 0.9236\n",
      "Epoch 14/30\n",
      "42000/42000 [==============================] - 26s 617us/sample - loss: 0.1695 - accuracy: 0.9358 - precision: 0.9453 - recall: 0.9275 - val_loss: 0.1878 - val_accuracy: 0.9328 - val_precision: 0.9407 - val_recall: 0.9258\n",
      "Epoch 15/30\n",
      "42000/42000 [==============================] - 26s 616us/sample - loss: 0.1623 - accuracy: 0.9394 - precision: 0.9473 - recall: 0.9329 - val_loss: 0.1858 - val_accuracy: 0.9351 - val_precision: 0.9419 - val_recall: 0.9277\n",
      "Epoch 16/30\n",
      "42000/42000 [==============================] - 26s 618us/sample - loss: 0.1605 - accuracy: 0.9385 - precision: 0.9461 - recall: 0.9319 - val_loss: 0.1862 - val_accuracy: 0.9354 - val_precision: 0.9422 - val_recall: 0.9286\n",
      "Epoch 17/30\n",
      "42000/42000 [==============================] - 26s 617us/sample - loss: 0.1602 - accuracy: 0.9406 - precision: 0.9482 - recall: 0.9331 - val_loss: 0.1861 - val_accuracy: 0.9339 - val_precision: 0.9415 - val_recall: 0.9277\n",
      "Epoch 18/30\n",
      "42000/42000 [==============================] - 26s 618us/sample - loss: 0.1583 - accuracy: 0.9393 - precision: 0.9473 - recall: 0.9320 - val_loss: 0.1853 - val_accuracy: 0.9341 - val_precision: 0.9415 - val_recall: 0.9277\n",
      "Epoch 19/30\n",
      "42000/42000 [==============================] - 26s 615us/sample - loss: 0.1586 - accuracy: 0.9399 - precision: 0.9472 - recall: 0.9331 - val_loss: 0.1862 - val_accuracy: 0.9343 - val_precision: 0.9415 - val_recall: 0.9279\n",
      "Epoch 20/30\n",
      "42000/42000 [==============================] - 26s 618us/sample - loss: 0.1559 - accuracy: 0.9410 - precision: 0.9482 - recall: 0.9338 - val_loss: 0.1863 - val_accuracy: 0.9348 - val_precision: 0.9418 - val_recall: 0.9286\n",
      "Epoch 21/30\n",
      "42000/42000 [==============================] - 26s 617us/sample - loss: 0.1589 - accuracy: 0.9404 - precision: 0.9477 - recall: 0.9340 - val_loss: 0.1848 - val_accuracy: 0.9353 - val_precision: 0.9414 - val_recall: 0.9292\n",
      "Epoch 22/30\n",
      "42000/42000 [==============================] - 26s 615us/sample - loss: 0.1553 - accuracy: 0.9415 - precision: 0.9484 - recall: 0.9349 - val_loss: 0.1857 - val_accuracy: 0.9342 - val_precision: 0.9413 - val_recall: 0.9284\n",
      "Epoch 23/30\n",
      "42000/42000 [==============================] - 26s 619us/sample - loss: 0.1578 - accuracy: 0.9399 - precision: 0.9470 - recall: 0.9332 - val_loss: 0.1848 - val_accuracy: 0.9341 - val_precision: 0.9414 - val_recall: 0.9283\n",
      "Epoch 24/30\n",
      "42000/42000 [==============================] - 26s 619us/sample - loss: 0.1537 - accuracy: 0.9408 - precision: 0.9479 - recall: 0.9345 - val_loss: 0.1847 - val_accuracy: 0.9346 - val_precision: 0.9414 - val_recall: 0.9287\n",
      "Epoch 25/30\n",
      "42000/42000 [==============================] - 26s 616us/sample - loss: 0.1549 - accuracy: 0.9413 - precision: 0.9489 - recall: 0.9342 - val_loss: 0.1846 - val_accuracy: 0.9351 - val_precision: 0.9415 - val_recall: 0.9293\n",
      "Epoch 26/30\n",
      "42000/42000 [==============================] - 26s 616us/sample - loss: 0.1498 - accuracy: 0.9430 - precision: 0.9502 - recall: 0.9362 - val_loss: 0.1845 - val_accuracy: 0.9350 - val_precision: 0.9415 - val_recall: 0.9292\n",
      "Epoch 27/30\n",
      "42000/42000 [==============================] - 26s 619us/sample - loss: 0.1542 - accuracy: 0.9410 - precision: 0.9480 - recall: 0.9340 - val_loss: 0.1845 - val_accuracy: 0.9351 - val_precision: 0.9415 - val_recall: 0.9293\n",
      "Epoch 28/30\n",
      "42000/42000 [==============================] - 26s 616us/sample - loss: 0.1552 - accuracy: 0.9403 - precision: 0.9476 - recall: 0.9339 - val_loss: 0.1844 - val_accuracy: 0.9351 - val_precision: 0.9416 - val_recall: 0.9293\n",
      "Epoch 29/30\n",
      "42000/42000 [==============================] - 26s 618us/sample - loss: 0.1518 - accuracy: 0.9425 - precision: 0.9504 - recall: 0.9360 - val_loss: 0.1847 - val_accuracy: 0.9343 - val_precision: 0.9411 - val_recall: 0.9287\n",
      "Epoch 30/30\n",
      "42000/42000 [==============================] - 26s 616us/sample - loss: 0.1539 - accuracy: 0.9409 - precision: 0.9483 - recall: 0.9343 - val_loss: 0.1843 - val_accuracy: 0.9352 - val_precision: 0.9418 - val_recall: 0.9294\n"
     ]
    }
   ],
   "source": [
    "epochs = 30\n",
    "batch_size = 256\n",
    "train_session = 5\n",
    "\n",
    "\n",
    "if not os.path.exists(f\"./checkpoints/fit{train_session}\"):\n",
    "    os.makedirs(f\"./checkpoints/fit{train_session}\")\n",
    "    \n",
    "checkpoints_filepath = f\"./checkpoints/fit{train_session}\" + \"/model-{epoch:02d}-{accuracy:.4f}-{val_accuracy:.4f}.h5\"\n",
    "\n",
    "callbacks = [\n",
    "    TensorBoard(log_dir=f\"./logs/fit{train_session}/\"),\n",
    "    ModelCheckpoint(filepath=checkpoints_filepath,\n",
    "                    save_weights_only=True,\n",
    "                    monitor='val_accuracy',\n",
    "                    mode='max',\n",
    "                    save_best_only=True),\n",
    "    EarlyStopping(monitor='val_loss', patience=8),\n",
    "    ReduceLROnPlateau(monitor='val_accuracy', patience=7)\n",
    "]\n",
    "\n",
    "history = model.fit(trainX,\n",
    "                    trainY,\n",
    "                    validation_split=0.30,\n",
    "                    epochs=epochs,\n",
    "                    batch_size=batch_size,\n",
    "                    callbacks=callbacks)"
   ]
  },
  {
   "cell_type": "markdown",
   "metadata": {},
   "source": [
    "# Load best model weights"
   ]
  },
  {
   "cell_type": "code",
   "execution_count": 21,
   "metadata": {},
   "outputs": [],
   "source": [
    "# latest model of a train session has best model weights\n",
    "# eg. if ./checkpoints/fit5 is the latest folder latest entry in it has best weights\n",
    "model.load_weights(\"./checkpoints/fit5/model-15-0.94-0.94.h5\")"
   ]
  },
  {
   "cell_type": "markdown",
   "metadata": {},
   "source": [
    "# Test model on best weights"
   ]
  },
  {
   "cell_type": "code",
   "execution_count": 22,
   "metadata": {},
   "outputs": [
    {
     "name": "stdout",
     "output_type": "stream",
     "text": [
      "10000/10000 [==============================] - 2s 206us/sample - loss: 0.2000 - accuracy: 0.9291 - precision: 0.9373 - recall: 0.9231\n"
     ]
    }
   ],
   "source": [
    "test_eval_results = model.evaluate(testX, testY, batch_size=batch_size)"
   ]
  },
  {
   "cell_type": "code",
   "execution_count": 23,
   "metadata": {},
   "outputs": [
    {
     "name": "stdout",
     "output_type": "stream",
     "text": [
      "Test Accuracy  0.9291\n",
      "Test loss      0.2000\n",
      "Test Precision 0.9373\n",
      "Test Recall    0.9231\n"
     ]
    }
   ],
   "source": [
    "test_loss, test_accuracy, test_precision, test_recall = test_eval_results\n",
    "print(f\"Test Accuracy  {test_accuracy:0>.4f}\")\n",
    "print(f\"Test loss      {test_loss:0>.4f}\")\n",
    "print(f\"Test Precision {test_precision:0>.4f}\")\n",
    "print(f\"Test Recall    {test_recall:0>.4f}\")"
   ]
  },
  {
   "cell_type": "markdown",
   "metadata": {},
   "source": [
    "# Saving model"
   ]
  },
  {
   "cell_type": "code",
   "execution_count": 35,
   "metadata": {},
   "outputs": [],
   "source": [
    "model.save(\"../models/custom_model_94_92.h5\") # modelName_trainAccuracy_testAccuracy"
   ]
  }
 ],
 "metadata": {
  "kernelspec": {
   "display_name": "Python 3",
   "language": "python",
   "name": "python3"
  },
  "language_info": {
   "codemirror_mode": {
    "name": "ipython",
    "version": 3
   },
   "file_extension": ".py",
   "mimetype": "text/x-python",
   "name": "python",
   "nbconvert_exporter": "python",
   "pygments_lexer": "ipython3",
   "version": "3.7.7"
  },
  "toc": {
   "base_numbering": 1,
   "nav_menu": {},
   "number_sections": true,
   "sideBar": true,
   "skip_h1_title": false,
   "title_cell": "Table of Contents",
   "title_sidebar": "Contents",
   "toc_cell": false,
   "toc_position": {},
   "toc_section_display": true,
   "toc_window_display": false
  }
 },
 "nbformat": 4,
 "nbformat_minor": 4
}
